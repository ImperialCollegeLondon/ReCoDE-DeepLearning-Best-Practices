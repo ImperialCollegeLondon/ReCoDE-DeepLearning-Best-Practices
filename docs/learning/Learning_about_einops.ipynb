{
 "cells": [
  {
   "cell_type": "markdown",
   "metadata": {},
   "source": [
    "# Learn Einops: A More Readable Way to Manipulate Tensors in Python\n",
    "\n",
    "Einops (short for Einstein Operations) is a powerful Python library that provides a more readable and expressive way to manipulate tensors in deep learning and scientific computing. It's compatible with various tensor libraries like NumPy, PyTorch, and TensorFlow. In this tutorial, we'll explore how to use Einops for tensor operations.\n",
    "\n",
    "## 1. Introduction to Einops\n",
    "\n",
    "Einops offers a more flexible and intuitive approach to tensor operations, such as reshaping, transposing, and repeating, by using a readable and concise syntax. It simplifies complex operations and makes your code more maintainable.\n",
    "\n",
    "## 2. Installing Einops\n",
    "\n",
    "First, you need to install Einops. You can do this using pip:\n",
    "\n",
    "```bash\n",
    "pip install einops\n",
    "```"
   ]
  },
  {
   "cell_type": "markdown",
   "metadata": {},
   "source": [
    "## 3. Basic Operations with Einops\n",
    "\n",
    "### Reshape Tensors\n",
    "\n",
    "Reshaping is a common operation in tensor manipulation. With Einops, you can reshape tensors in a more intuitive way."
   ]
  },
  {
   "cell_type": "code",
   "execution_count": null,
   "metadata": {},
   "outputs": [],
   "source": [
    "import numpy as np\n",
    "from einops import rearrange\n",
    "\n",
    "# Create a 2D array (4x4)\n",
    "x = np.array([[1, 2, 3, 4], [5, 6, 7, 8], [9, 10, 11, 12], [13, 14, 15, 16]])\n",
    "x = x.astype(np.float32)\n",
    "\n",
    "# Reshape to (2x8) using einops\n",
    "x_reshaped = rearrange(x, \"(h w1) (w2) -> h (w1 w2)\", h=2, w1=2, w2=4)\n",
    "print(x_reshaped)"
   ]
  },
  {
   "cell_type": "markdown",
   "metadata": {},
   "source": [
    "The same operation can be performed in NumPy using the `reshape` method:\n",
    "\n",
    "```python\n",
    "# Constants\n",
    "h, w1, w2 = 2, 2, 4\n",
    "# Reshape and transpose using NumPy\n",
    "x_reshaped = x.reshape(h, w1, w2).transpose(0, 1, 2).reshape(h, w1 * w2)\n",
    "```\n",
    "\n",
    "But as you can see, the code is not very readable compared to the Einops version."
   ]
  },
  {
   "cell_type": "markdown",
   "metadata": {},
   "source": [
    "### Transpose and Permute Dimensions\n",
    "\n",
    "Transposing dimensions is simplified with Einops, allowing you to specify the new order of dimensions directly."
   ]
  },
  {
   "cell_type": "code",
   "execution_count": null,
   "metadata": {},
   "outputs": [],
   "source": [
    "from einops import rearrange\n",
    "\n",
    "# Transpose a 2D array\n",
    "x_transposed = rearrange(x, \"h w -> w h\")\n",
    "print(x_transposed)"
   ]
  },
  {
   "cell_type": "markdown",
   "metadata": {},
   "source": [
    "### Reducing Dimensions\n",
    "\n",
    "Einops also simplifies dimensionality reduction operations like sum, mean, or max across specified axes."
   ]
  },
  {
   "cell_type": "code",
   "execution_count": null,
   "metadata": {},
   "outputs": [],
   "source": [
    "from einops import reduce\n",
    "\n",
    "# Reduce dimensions by taking the mean\n",
    "x_mean = reduce(x, \"h w -> h\", \"mean\")\n",
    "print(x_mean)"
   ]
  },
  {
   "cell_type": "markdown",
   "metadata": {},
   "source": [
    "## 4. Advanced Operations\n",
    "\n",
    "### Repeating and Tiling Tensors\n",
    "\n",
    "With Einops, you can easily repeat or tile tensors in any dimension."
   ]
  },
  {
   "cell_type": "code",
   "execution_count": null,
   "metadata": {},
   "outputs": [],
   "source": [
    "from einops import repeat\n",
    "\n",
    "# Repeat the array along a new dimension\n",
    "x_repeated = repeat(x, \"h w -> h w c\", c=3)\n",
    "print(x_repeated.shape)"
   ]
  },
  {
   "cell_type": "markdown",
   "metadata": {},
   "source": [
    "### Combining and Splitting Dimensions\n",
    "\n",
    "Einops allows for complex reshaping, combining, and splitting of dimensions in a single operation."
   ]
  },
  {
   "cell_type": "code",
   "execution_count": null,
   "metadata": {},
   "outputs": [],
   "source": [
    "# Combine and split dimensions\n",
    "x_combined_split = rearrange(x, \"(h1 h2) (w1 w2) -> (h1 w1) (h2 w2)\", h1=2, h2=2, w1=2, w2=2)\n",
    "print(x_combined_split)"
   ]
  },
  {
   "cell_type": "markdown",
   "metadata": {},
   "source": [
    "In the same way as before, you can also do the operation in NumPy:\n",
    "```python\n",
    "# Constants\n",
    "h1, h2, w1, w2 = 2, 2, 2, 2\n",
    "\n",
    "# Reshape, transpose, and reshape using NumPy\n",
    "x_combined_split = x.reshape(h1, h2, w1, w2).transpose(0, 2, 1, 3).reshape(h1 * w1, h2 * w2)\n",
    "```\n",
    "But again, the code is not very readable compared to the Einops version."
   ]
  },
  {
   "cell_type": "markdown",
   "metadata": {},
   "source": [
    "### Working with Batches\n",
    "\n",
    "Einops seamlessly integrates with batched data, a common scenario in machine learning."
   ]
  },
  {
   "cell_type": "code",
   "execution_count": null,
   "metadata": {},
   "outputs": [],
   "source": [
    "# Create a batch of 2D arrays\n",
    "batch = np.array([x, x])\n",
    "\n",
    "# Apply operation on each element in the batch\n",
    "batch_processed = rearrange(batch, \"b h w -> b (h w)\")\n",
    "print(batch_processed.shape)"
   ]
  },
  {
   "cell_type": "markdown",
   "metadata": {},
   "source": [
    "## 5. Integrating with PyTorch and TensorFlow\n",
    "\n",
    "Einops works well with PyTorch and TensorFlow, allowing you to integrate its operations into deep learning models."
   ]
  },
  {
   "cell_type": "code",
   "execution_count": null,
   "metadata": {},
   "outputs": [],
   "source": [
    "import torch\n",
    "from einops.layers.torch import Rearrange\n",
    "\n",
    "# PyTorch example\n",
    "x_torch = torch.tensor(x)\n",
    "layer = Rearrange(\"h w -> h w 1\")\n",
    "x_torch_reshaped = layer(x_torch)\n",
    "print(x_torch_reshaped.shape)"
   ]
  },
  {
   "cell_type": "markdown",
   "metadata": {},
   "source": [
    "## Conclusion\n",
    "\n",
    "Einops provides an elegant and powerful way to handle tensor operations, making your code more readable and concise. It's highly versatile and can be integrated with popular tensor libraries, enhancing the way you perform tensor manipulations in Python. To delve deeper into Einops, visit the [official documentation](https://einops.rocks/)."
   ]
  }
 ],
 "metadata": {
  "kernelspec": {
   "display_name": "env",
   "language": "python",
   "name": "python3"
  },
  "language_info": {
   "codemirror_mode": {
    "name": "ipython",
    "version": 3
   },
   "file_extension": ".py",
   "mimetype": "text/x-python",
   "name": "python",
   "nbconvert_exporter": "python",
   "pygments_lexer": "ipython3",
   "version": "3.9.18"
  }
 },
 "nbformat": 4,
 "nbformat_minor": 2
}
