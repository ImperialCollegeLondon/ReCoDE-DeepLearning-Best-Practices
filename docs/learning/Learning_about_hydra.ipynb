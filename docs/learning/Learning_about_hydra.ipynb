{
 "cells": [
  {
   "cell_type": "markdown",
   "metadata": {},
   "source": [
    "# Learn Hydra: A manable way to handle complex configurations\n",
    "\n",
    "Hydra is a powerful tool developed by Facebook Research for managing complex configurations in applications, including machine learning projects. Here's a step-by-step tutorial to get you started:\n",
    "\n",
    "## 1. Introduction to Hydra\n",
    "Hydra is a framework for elegantly configuring complex applications. It allows you to create dynamic configuration files that are easy to update and maintain. This is particularly useful in machine learning, where you might need to experiment with different configurations.\n",
    "In our setup, every configuration file is meticulously organized within the `configs` folder, where each module is allocated its distinct subfolder. This structured approach not only segregates the configuration files but also ensures clarity and ease of navigation through our configuration setup.\n",
    "\n",
    "## 2. Setting Up Hydra\n",
    "First, you need to install Hydra. You can do this using pip:\n",
    "\n",
    "```python\n",
    "pip install hydra-core\n",
    "```\n",
    "\n",
    "## 3. Basic Configuration File\n",
    "Hydra uses YAML files for configuration. Here's a simple example:\n",
    "\n",
    "```yaml\n",
    "# config.yaml\n",
    "model:\n",
    "  name: \"linear_regression\"\n",
    "  learning_rate: 0.01\n",
    "```\n",
    "\n",
    "## 4. Integrating Hydra into Your Python Script\n",
    "To use Hydra, you need to decorate your main function with `@hydra.main()` and specify the path to your configuration file.\n",
    "\n",
    "```python\n",
    "import hydra\n",
    "\n",
    "@hydra.main(version_base=\"1.2\", config_path=\"configs\", config_name=\"train.yaml\")\n",
    "def main(cfg):\n",
    "    print(f\"Model: {cfg.model.name}\")\n",
    "    print(f\"Learning Rate: {cfg.model.learning_rate}\")\n",
    "\n",
    "if __name__ == \"__main__\":\n",
    "    main()\n",
    "```\n",
    "\n",
    "## 5. Running Your Script\n",
    "Run your script using the Python command. Hydra will automatically read your `config.yaml` file:\n",
    "\n",
    "```bash\n",
    "python your_script.py\n",
    "```\n",
    "\n",
    "## 6. Overriding Configuration from the Command Line\n",
    "One of Hydra's strengths is allowing you to override configuration parameters from the command line. For example:\n",
    "\n",
    "```bash\n",
    "python your_script.py model.name=svm model.learning_rate=0.001\n",
    "```\n",
    "\n",
    "## 7. Creating Hierarchical Configurations\n",
    "Hydra supports hierarchical configurations, which is useful for complex projects. You can split your configuration into multiple files and directories.\n",
    "\n",
    "## 8. Advanced Features\n",
    "- **Multirun**: Useful for running experiments with different configurations.\n",
    "- **Variable Interpolation**: To dynamically set configuration values.\n",
    "- **Composition**: Combining multiple configurations.\n",
    "\n",
    "## 9. Best Practices\n",
    "- Keep your configurations modular.\n",
    "- Use Hydra's logging capabilities.\n",
    "- Utilize Hydra's powerful plugin system for more advanced scenarios.\n",
    "\n",
    "## Conclusion\n",
    "Hydra is a powerful tool for managing configurations in machine learning projects. It simplifies experimenting with different parameters and models, making your workflow more efficient and organized.\n",
    "\n",
    "Remember, Hydra is continuously evolving, so always check the [official documentation](https://hydra.cc/docs/intro/) for the latest features and best practices."
   ]
  },
  {
   "cell_type": "markdown",
   "metadata": {},
   "source": [
    "## Exploration\n",
    "\n",
    "Now that you've learned the basics of Hydra, try experimenting with the toy configuration file to get a better understanding of Hydra's capabilities.\n",
    "We are working on notebook so that you can try out Hydra in a Jupyter environment. However, keep in mind that Hydra is a command-line tool, so you don't have access to all of its features in a notebook."
   ]
  },
  {
   "cell_type": "code",
   "execution_count": 8,
   "metadata": {},
   "outputs": [
    {
     "name": "stdout",
     "output_type": "stream",
     "text": [
      "learning_rate: 0.1\n",
      "batch_size: 32\n",
      "mlp:\n",
      "  _target_: torchvision.ops.MLP\n",
      "  in_channels: 150\n",
      "  hidden_channels:\n",
      "  - 100\n",
      "  dropout: 0.5\n",
      "\n"
     ]
    }
   ],
   "source": [
    "import hydra\n",
    "from hydra import compose, initialize\n",
    "from omegaconf import OmegaConf\n",
    "\n",
    "# context initialization\n",
    "with initialize(config_path=\"./\", job_name=\"test_app\", version_base=\"1.2\"):\n",
    "    # With overrides you can change the config values or add new ones\n",
    "    cfg = compose(config_name=\"hydra_example\", overrides=[\"+mlp.dropout=0.5\", \"mlp.in_channels=150\"])\n",
    "    print(OmegaConf.to_yaml(cfg))"
   ]
  },
  {
   "cell_type": "code",
   "execution_count": 9,
   "metadata": {},
   "outputs": [
    {
     "data": {
      "text/plain": [
       "MLP(\n",
       "  (0): Linear(in_features=150, out_features=100, bias=True)\n",
       "  (1): Dropout(p=0.5, inplace=False)\n",
       ")"
      ]
     },
     "execution_count": 9,
     "metadata": {},
     "output_type": "execute_result"
    }
   ],
   "source": [
    "# You can now instantiate your model\n",
    "model = hydra.utils.instantiate(cfg.mlp)\n",
    "model"
   ]
  }
 ],
 "metadata": {
  "kernelspec": {
   "display_name": "env",
   "language": "python",
   "name": "python3"
  },
  "language_info": {
   "codemirror_mode": {
    "name": "ipython",
    "version": 3
   },
   "file_extension": ".py",
   "mimetype": "text/x-python",
   "name": "python",
   "nbconvert_exporter": "python",
   "pygments_lexer": "ipython3",
   "version": "3.9.18"
  }
 },
 "nbformat": 4,
 "nbformat_minor": 2
}
